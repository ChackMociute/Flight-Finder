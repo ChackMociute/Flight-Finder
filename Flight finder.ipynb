{
 "cells": [
  {
   "cell_type": "markdown",
   "id": "28803c85-b5ab-4ef6-a76e-61c843e2b358",
   "metadata": {},
   "source": [
    "# Flight Finder"
   ]
  },
  {
   "cell_type": "code",
   "execution_count": 24,
   "id": "a59ea2bd-59ff-4f64-a395-87f7a5d82483",
   "metadata": {},
   "outputs": [],
   "source": [
    "import smtplib\n",
    "import pandas as pd\n",
    "from time import sleep, strftime\n",
    "from random import randint\n",
    "from selenium import webdriver\n",
    "from selenium.webdriver.common.keys import Keys\n",
    "from selenium.webdriver.common.by import By\n",
    "from selenium.webdriver.chrome.service import Service\n",
    "from email.mime.multipart import MIMEMultipart\n",
    "\n",
    "chrome_driver_path = \"chromedriver.exe\"\n",
    "kayak = \"https://www.kayak.com/explore/RIX-anywhere\""
   ]
  },
  {
   "cell_type": "code",
   "execution_count": 25,
   "id": "e27a98ea-2924-4481-8732-61a984ecf693",
   "metadata": {},
   "outputs": [],
   "source": [
    "driver = webdriver.Chrome(service=Service(chrome_driver_path))\n",
    "driver.get(kayak)\n",
    "sleep(5)\n",
    "cheap_results = '//*[@class = \"_iae _lc _ss\"]'\n",
    "flight_list = [x.text for x in driver.find_elements(By.XPATH, cheap_results)]"
   ]
  },
  {
   "cell_type": "code",
   "execution_count": 26,
   "id": "d8a18d93-7708-46c2-8ccf-d4d1d840ee8b",
   "metadata": {},
   "outputs": [
    {
     "name": "stdout",
     "output_type": "stream",
     "text": [
      "24\n",
      "Helsinki\n",
      "from $14\n",
      "Finland\n",
      "Fri, Oct 7 - Mon, Oct 10\n"
     ]
    }
   ],
   "source": [
    "print(len(flight_list))\n",
    "print(flight_list[0])"
   ]
  },
  {
   "cell_type": "code",
   "execution_count": 29,
   "id": "353d5927-2241-43ef-be2c-8c1d4026bdb2",
   "metadata": {},
   "outputs": [
    {
     "data": {
      "text/plain": [
       "[['Helsinki', 'from $14', 'Finland', 'Fri, Oct 7 - Mon, Oct 10'],\n",
       " ['Gothenburg', 'from $15', 'Sweden', 'Thu, Sep 22 - Sun, Sep 25'],\n",
       " ['Aarhus', 'from $15', 'Denmark', 'Thu, Sep 29 - Tue, Oct 4'],\n",
       " ['Warsaw', 'from $16', 'Poland', 'Mon, Oct 10 - Mon, Oct 17'],\n",
       " ['Stockholm', 'from $18', 'Sweden', 'Fri, Sep 30 - Sun, Oct 2'],\n",
       " ['Oslo', 'from $21', 'Norway', 'Fri, Sep 23 - Wed, Sep 28'],\n",
       " ['Vaxjo', 'from $27', 'Sweden', 'Fri, Sep 16 - Mon, Sep 19'],\n",
       " ['Krakow', 'from $32', 'Poland', 'Mon, Dec 19 - Fri, Jan 6'],\n",
       " ['Berlin', 'from $35', 'Germany', 'Sat, Nov 5 - Tue, Nov 8'],\n",
       " ['Gdansk', 'from $38', 'Poland', 'Sat, Oct 15 - Tue, Oct 18'],\n",
       " ['Malmö', 'from $41', 'Sweden', 'Fri, Oct 21 - Mon, Oct 24'],\n",
       " ['Prague', 'from $46', 'Czech Republic', 'Fri, Nov 25 - Mon, Nov 28']]"
      ]
     },
     "execution_count": 29,
     "metadata": {},
     "output_type": "execute_result"
    }
   ],
   "source": [
    "[x.split('\\n') for x in flight_list if x != '']"
   ]
  }
 ],
 "metadata": {
  "kernelspec": {
   "display_name": "Python 3 (ipykernel)",
   "language": "python",
   "name": "python3"
  },
  "language_info": {
   "codemirror_mode": {
    "name": "ipython",
    "version": 3
   },
   "file_extension": ".py",
   "mimetype": "text/x-python",
   "name": "python",
   "nbconvert_exporter": "python",
   "pygments_lexer": "ipython3",
   "version": "3.10.2"
  }
 },
 "nbformat": 4,
 "nbformat_minor": 5
}
