{
 "cells": [
  {
   "cell_type": "markdown",
   "id": "28803c85-b5ab-4ef6-a76e-61c843e2b358",
   "metadata": {},
   "source": [
    "# Flight Finder"
   ]
  },
  {
   "cell_type": "code",
   "execution_count": 1,
   "id": "a59ea2bd-59ff-4f64-a395-87f7a5d82483",
   "metadata": {},
   "outputs": [],
   "source": [
    "import smtplib\n",
    "import pandas as pd\n",
    "from time import sleep, strftime\n",
    "from random import randint\n",
    "from selenium import webdriver\n",
    "from selenium.webdriver.common.keys import Keys\n",
    "from selenium.webdriver.common.by import By\n",
    "from selenium.webdriver.chrome.service import Service\n",
    "from email.mime.multipart import MIMEMultipart"
   ]
  },
  {
   "cell_type": "code",
   "execution_count": 2,
   "id": "7264ea2f-5343-4499-9708-4c97e5770891",
   "metadata": {},
   "outputs": [],
   "source": [
    "load_N = 3\n",
    "\n",
    "chrome_driver_path = \"chromedriver.exe\"\n",
    "kayak = \"https://www.kayak.com/explore/RIX-anywhere\""
   ]
  },
  {
   "cell_type": "code",
   "execution_count": 3,
   "id": "e27a98ea-2924-4481-8732-61a984ecf693",
   "metadata": {},
   "outputs": [],
   "source": [
    "driver = webdriver.Chrome(service=Service(chrome_driver_path))\n",
    "driver.get(kayak)\n",
    "\n",
    "i = 0\n",
    "while i < load_N:\n",
    "    try:\n",
    "        driver.find_element(By.XPATH, '//*[substring(@id, string-length(@id) - string-length(\"-showMoreButton\") +1) = \"-showMoreButton\"]').click()\n",
    "        i += 1\n",
    "        sleep(0.1)\n",
    "    except:\n",
    "        sleep(1)\n",
    "sleep(1)\n",
    "flight_list = [x.text for x in driver.find_elements(By.XPATH, '//*[@class = \"_iae _lc _ss\"]')]"
   ]
  },
  {
   "cell_type": "code",
   "execution_count": 4,
   "id": "d8a18d93-7708-46c2-8ccf-d4d1d840ee8b",
   "metadata": {},
   "outputs": [
    {
     "name": "stdout",
     "output_type": "stream",
     "text": [
      "60\n"
     ]
    }
   ],
   "source": [
    "print(len(flight_list))"
   ]
  },
  {
   "cell_type": "code",
   "execution_count": 5,
   "id": "353d5927-2241-43ef-be2c-8c1d4026bdb2",
   "metadata": {},
   "outputs": [
    {
     "data": {
      "text/html": [
       "<div>\n",
       "<style scoped>\n",
       "    .dataframe tbody tr th:only-of-type {\n",
       "        vertical-align: middle;\n",
       "    }\n",
       "\n",
       "    .dataframe tbody tr th {\n",
       "        vertical-align: top;\n",
       "    }\n",
       "\n",
       "    .dataframe thead th {\n",
       "        text-align: right;\n",
       "    }\n",
       "</style>\n",
       "<table border=\"1\" class=\"dataframe\">\n",
       "  <thead>\n",
       "    <tr style=\"text-align: right;\">\n",
       "      <th></th>\n",
       "      <th>Country</th>\n",
       "      <th>City</th>\n",
       "      <th>Price</th>\n",
       "      <th>Date</th>\n",
       "    </tr>\n",
       "  </thead>\n",
       "  <tbody>\n",
       "    <tr>\n",
       "      <th>0</th>\n",
       "      <td>Finland</td>\n",
       "      <td>Helsinki</td>\n",
       "      <td>from $14</td>\n",
       "      <td>Fri, Oct 7 - Mon, Oct 10</td>\n",
       "    </tr>\n",
       "    <tr>\n",
       "      <th>1</th>\n",
       "      <td>Sweden</td>\n",
       "      <td>Gothenburg</td>\n",
       "      <td>from $15</td>\n",
       "      <td>Thu, Sep 22 - Sun, Sep 25</td>\n",
       "    </tr>\n",
       "    <tr>\n",
       "      <th>2</th>\n",
       "      <td>Denmark</td>\n",
       "      <td>Aarhus</td>\n",
       "      <td>from $15</td>\n",
       "      <td>Thu, Sep 29 - Tue, Oct 4</td>\n",
       "    </tr>\n",
       "    <tr>\n",
       "      <th>3</th>\n",
       "      <td>Poland</td>\n",
       "      <td>Warsaw</td>\n",
       "      <td>from $16</td>\n",
       "      <td>Mon, Oct 10 - Mon, Oct 17</td>\n",
       "    </tr>\n",
       "    <tr>\n",
       "      <th>4</th>\n",
       "      <td>Sweden</td>\n",
       "      <td>Stockholm</td>\n",
       "      <td>from $18</td>\n",
       "      <td>Fri, Sep 30 - Sun, Oct 2</td>\n",
       "    </tr>\n",
       "  </tbody>\n",
       "</table>\n",
       "</div>"
      ],
      "text/plain": [
       "   Country        City     Price                       Date\n",
       "0  Finland    Helsinki  from $14   Fri, Oct 7 - Mon, Oct 10\n",
       "1   Sweden  Gothenburg  from $15  Thu, Sep 22 - Sun, Sep 25\n",
       "2  Denmark      Aarhus  from $15   Thu, Sep 29 - Tue, Oct 4\n",
       "3   Poland      Warsaw  from $16  Mon, Oct 10 - Mon, Oct 17\n",
       "4   Sweden   Stockholm  from $18   Fri, Sep 30 - Sun, Oct 2"
      ]
     },
     "execution_count": 5,
     "metadata": {},
     "output_type": "execute_result"
    }
   ],
   "source": [
    "df = pd.DataFrame([x.split('\\n') for x in flight_list if x != ''], columns=['City', 'Price', 'Country', 'Date']).loc[:, ['Country', 'City', 'Price', 'Date']]\n",
    "df.head()"
   ]
  }
 ],
 "metadata": {
  "kernelspec": {
   "display_name": "Python 3 (ipykernel)",
   "language": "python",
   "name": "python3"
  },
  "language_info": {
   "codemirror_mode": {
    "name": "ipython",
    "version": 3
   },
   "file_extension": ".py",
   "mimetype": "text/x-python",
   "name": "python",
   "nbconvert_exporter": "python",
   "pygments_lexer": "ipython3",
   "version": "3.10.2"
  }
 },
 "nbformat": 4,
 "nbformat_minor": 5
}
